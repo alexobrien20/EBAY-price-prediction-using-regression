{
 "cells": [
  {
   "cell_type": "code",
   "execution_count": 13,
   "metadata": {},
   "outputs": [],
   "source": [
    "import time\n",
    "import numpy as np\n",
    "import pandas as pd\n",
    "import matplotlib.pyplot as plt\n",
    "from sklearn.model_selection import train_test_split\n",
    "from sklearn.preprocessing import StandardScaler\n",
    "from sklearn.linear_model import PoissonRegressor\n",
    "from sklearn.svm import LinearSVR,NuSVR,SVR\n",
    "from sklearn.tree import DecisionTreeRegressor,ExtraTreeRegressor\n",
    "from sklearn.metrics import mean_squared_error, mean_absolute_error, median_absolute_error\n",
    "from sklearn.ensemble import RandomForestRegressor, AdaBoostRegressor, GradientBoostingRegressor\n",
    "from sklearn.model_selection import cross_val_score, RandomizedSearchCV\n",
    "from random import uniform,randint\n",
    "from sklearn.metrics import make_scorer\n",
    "from scipy.stats import truncnorm"
   ]
  },
  {
   "cell_type": "code",
   "execution_count": 14,
   "metadata": {},
   "outputs": [],
   "source": [
    "linear_models = ['LinearRegression', 'Ridge', 'SGDRegressor', 'ElasticNet,Lars',\n",
    "        'Lasso', 'LassoLars','OrthogonalMatchingPursuit','ARDRegression','BayesianRidge','HuberRegressor',\n",
    "        'RANSACRegressor', 'TheilSenRegressor', 'PoissonRegressor','TweedieRegressor','GammaRegressor',\n",
    "        'PassiveAggressiveRegressor']\n",
    "models = []\n",
    "for model in linear_models:\n",
    "    try:\n",
    "        exec(f\"from sklearn.linear_model import {model}\")\n",
    "    except ImportError:\n",
    "        print(f\"Error importing {model}\")"
   ]
  },
  {
   "cell_type": "code",
   "execution_count": 15,
   "metadata": {},
   "outputs": [],
   "source": [
    "df = pd.read_pickle('finaldata.pkl')"
   ]
  },
  {
   "cell_type": "code",
   "execution_count": 16,
   "metadata": {},
   "outputs": [],
   "source": [
    "for col in df.columns:\n",
    "    if(df[col].dtype == 'bool'):\n",
    "        df[col] = pd.factorize(df[col])[0] \n",
    "df = df.reset_index(drop=True)\n",
    "df= df.drop(columns='listingInfo.buyItNowAvailable')"
   ]
  },
  {
   "cell_type": "code",
   "execution_count": 17,
   "metadata": {},
   "outputs": [],
   "source": [
    "df = df.reset_index(drop=True)"
   ]
  },
  {
   "cell_type": "code",
   "execution_count": 18,
   "metadata": {},
   "outputs": [],
   "source": [
    "def create_training_and_test_data(df):\n",
    "    Y_targets = np.array(df['Price'].values)\n",
    "    X = np.array(df.drop(columns='Price').values)\n",
    "    scaler = StandardScaler()\n",
    "    X_scaled = scaler.fit_transform(X)\n",
    "    X_train, X_test, y_train, y_test = train_test_split(X_scaled,Y_targets,test_size=0.2,random_state=42,\n",
    "                                                   shuffle=True)\n",
    "    return X_train,X_test,y_train,y_test"
   ]
  },
  {
   "cell_type": "code",
   "execution_count": 19,
   "metadata": {},
   "outputs": [],
   "source": [
    "def mean_absolute_percentage_error(y_true, y_pred):\n",
    "    return np.mean(np.abs((y_true - y_pred) / y_true)) * 100"
   ]
  },
  {
   "cell_type": "code",
   "execution_count": 20,
   "metadata": {},
   "outputs": [],
   "source": [
    "X_train, X_test, y_train, y_test = create_training_and_test_data(df)"
   ]
  },
  {
   "cell_type": "code",
   "execution_count": 21,
   "metadata": {},
   "outputs": [
    {
     "name": "stdout",
     "output_type": "stream",
     "text": [
      "(14394, 81)\n",
      "(3599, 81)\n"
     ]
    }
   ],
   "source": [
    "print(X_train.shape)\n",
    "print(X_test.shape)"
   ]
  },
  {
   "cell_type": "code",
   "execution_count": 42,
   "metadata": {},
   "outputs": [],
   "source": [
    "best_forest_params = {'bootstrap': True, 'ccp_alpha': 0.0, 'criterion': 'mse', 'max_depth': None, \n",
    "                               'max_features': 'auto', 'max_leaf_nodes': None, 'max_samples': None, \n",
    "                               'min_impurity_decrease': 0.0, 'min_impurity_split': None, 'min_samples_leaf': 1,\n",
    "                               'min_samples_split': 7, 'min_weight_fraction_leaf': 0.0, 'n_estimators': 709, \n",
    "                               'n_jobs': None, 'oob_score': False, 'random_state': None, 'verbose': 0, \n",
    "                               'warm_start': False}\n",
    "best_svr_params = {'C': 1.7429383440550505, 'cache_size': 200, 'coef0': 0.0, 'degree': 4, \n",
    "                   'epsilon': 0.7128563457476645,'gamma': 'auto', 'kernel': 'rbf', \n",
    "                   'max_iter': -1, 'shrinking': True, 'tol': 0.001, 'verbose': False} \n",
    "best_Nusvr_params = {'C': 2.4196539131928545, 'cache_size': 200, 'coef0': 0.0, 'degree': 2, \n",
    "                      'gamma': 'scale', 'kernel': 'rbf', 'max_iter': -1, 'nu': 0.7766835423023327, 'shrinking': True,\n",
    "                      'tol': 0.001, 'verbose': False}\n",
    "best_arg_params = {'alpha_1': 4.3378736853599286e-05, 'alpha_2': 8.19823665091751e-06, 'compute_score': False, \n",
    "                   'copy_X': True, 'fit_intercept': True, 'lambda_1': 1.3636729392523562e-05, \n",
    "                   'lambda_2': 9.760664648063037e-05, 'n_iter': 886, 'normalize': False, \n",
    "                   'threshold_lambda': 10000.0, 'tol': 0.001, 'verbose': False}\n",
    "best_huber_params = {'alpha': 6.1516451862359435e-06, 'epsilon': 2.076940479476908, \n",
    "                      'fit_intercept': True, 'max_iter': 272, 'tol': 1e-05, 'warm_start': False}\n",
    "best_gbr_params = {'alpha': 0.9, 'ccp_alpha': 0.0, 'criterion': 'friedman_mse', 'init': None,\n",
    "                   'learning_rate': 0.19104322054197975, 'loss': 'huber', \n",
    "                   'max_depth': 3, 'max_features': 52, 'max_leaf_nodes': None,\n",
    "                   'min_impurity_decrease': 0.0, 'min_impurity_split': None, \n",
    "                   'min_samples_leaf': 1, 'min_samples_split': 3, 'min_weight_fraction_leaf': 0.0,\n",
    "                   'n_estimators': 626, 'n_iter_no_change': None, 'presort': 'deprecated',\n",
    "                   'random_state': None, 'subsample': 1.0, 'tol': 0.0001, 'validation_fraction': 0.1,\n",
    "                   'verbose': 0, 'warm_start': False}"
   ]
  },
  {
   "cell_type": "code",
   "execution_count": 43,
   "metadata": {},
   "outputs": [],
   "source": [
    "models = [RandomForestRegressor(**best_forest_params),GradientBoostingRegressor(**best_gbr_params),\n",
    "         SVR(**best_svr_params),NuSVR(**best_Nusvr_params)]"
   ]
  },
  {
   "cell_type": "code",
   "execution_count": 44,
   "metadata": {},
   "outputs": [],
   "source": [
    "def run_models(models,X_train,y_train,X_test,y_test):\n",
    "    y_test_squared = np.square(y_test)\n",
    "    y_train_squared = np.square(y_train)\n",
    "    x_train_squared = np.square(X_train)\n",
    "    x_test_squared = np.square(X_test)\n",
    "    \n",
    "    total_time_start = time.time()\n",
    "    model_evaluation = pd.DataFrame(columns=['Model','Train MAPE','Train RMSE','Train CV Mean','Train CV STD',\n",
    "                                            'Test MAPE','Test RMSE','Time Taken'])\n",
    "    for index,model in enumerate(models):\n",
    "        print(f'Now doing : {model} : This is model : {index + 1} out of {len(models)} ')\n",
    "        df_values = []\n",
    "        start = time.time()\n",
    "        current_model = model.fit(X_train,y_train)\n",
    "        model_train_predictions = current_model.predict(X_train)\n",
    "        model_train_predictions_squared = np.square(model_train_predictions)\n",
    "        train_mse = mean_squared_error(y_train_squared,model_train_predictions_squared)\n",
    "        train_rmse = np.sqrt(train_mse)\n",
    "        model_train_cv_score = cross_val_score(current_model, X_train, y_train,\n",
    "                        scoring='neg_mean_squared_error',cv=10)\n",
    "        \n",
    "        model_train_scores_mean = model_train_cv_score.mean()\n",
    "        train_scores_rmse = np.sqrt(-model_train_scores_mean)\n",
    "        model_train_scores_std = model_train_cv_score.std()\n",
    "        model_train_mape = mean_absolute_percentage_error(y_train_squared, model_train_predictions_squared)\n",
    "        \n",
    "        model_test_predictions = current_model.predict(X_test)\n",
    "        model_test_predictions_squared = np.square(model_test_predictions)\n",
    "        model_test_mse = mean_squared_error(y_test_squared, model_test_predictions_squared)\n",
    "        test_rmse = np.sqrt(model_test_mse)\n",
    "        model_test_mape = mean_absolute_percentage_error(y_test_squared, model_test_predictions_squared)\n",
    "        end = time.time()\n",
    "        time_taken = end - start\n",
    "        df_values.extend([model,model_train_mape,train_rmse,train_scores_rmse,\n",
    "                          model_train_scores_std,model_test_mape,test_rmse,time_taken])\n",
    "        series_to_append = pd.Series(df_values,index=model_evaluation.columns)\n",
    "        model_evaluation = model_evaluation.append(series_to_append,ignore_index=True)\n",
    "    total_time_end = time.time()\n",
    "    print(f'Time taken : {total_time_end - total_time_start}')\n",
    "    return model_evaluation"
   ]
  },
  {
   "cell_type": "code",
   "execution_count": 45,
   "metadata": {},
   "outputs": [
    {
     "name": "stdout",
     "output_type": "stream",
     "text": [
      "Now doing : RandomForestRegressor(min_samples_split=7, n_estimators=709) : This is model : 1 out of 4 \n",
      "Now doing : GradientBoostingRegressor(learning_rate=0.19104322054197975, loss='huber',\n",
      "                          max_features=52, min_samples_split=3,\n",
      "                          n_estimators=626) : This is model : 2 out of 4 \n",
      "Now doing : SVR(C=1.7429383440550505, degree=4, epsilon=0.7128563457476645, gamma='auto') : This is model : 3 out of 4 \n",
      "Now doing : NuSVR(C=2.4196539131928545, degree=2, nu=0.7766835423023327) : This is model : 4 out of 4 \n",
      "Time taken : 2134.8998198509216\n"
     ]
    }
   ],
   "source": [
    "df_models = run_models(models,X_train,y_train,X_test,y_test)"
   ]
  },
  {
   "cell_type": "code",
   "execution_count": 46,
   "metadata": {},
   "outputs": [
    {
     "data": {
      "text/html": [
       "<div>\n",
       "<style scoped>\n",
       "    .dataframe tbody tr th:only-of-type {\n",
       "        vertical-align: middle;\n",
       "    }\n",
       "\n",
       "    .dataframe tbody tr th {\n",
       "        vertical-align: top;\n",
       "    }\n",
       "\n",
       "    .dataframe thead th {\n",
       "        text-align: right;\n",
       "    }\n",
       "</style>\n",
       "<table border=\"1\" class=\"dataframe\">\n",
       "  <thead>\n",
       "    <tr style=\"text-align: right;\">\n",
       "      <th></th>\n",
       "      <th>Model</th>\n",
       "      <th>Train MAPE</th>\n",
       "      <th>Train RMSE</th>\n",
       "      <th>Train CV Mean</th>\n",
       "      <th>Train CV STD</th>\n",
       "      <th>Test MAPE</th>\n",
       "      <th>Test RMSE</th>\n",
       "      <th>Time Taken</th>\n",
       "    </tr>\n",
       "  </thead>\n",
       "  <tbody>\n",
       "    <tr>\n",
       "      <th>0</th>\n",
       "      <td>(DecisionTreeRegressor(max_features='auto', mi...</td>\n",
       "      <td>9.327739</td>\n",
       "      <td>13.686296</td>\n",
       "      <td>1.230752</td>\n",
       "      <td>0.108687</td>\n",
       "      <td>19.068479</td>\n",
       "      <td>25.296075</td>\n",
       "      <td>1021.853305</td>\n",
       "    </tr>\n",
       "    <tr>\n",
       "      <th>1</th>\n",
       "      <td>([DecisionTreeRegressor(criterion='friedman_ms...</td>\n",
       "      <td>16.465519</td>\n",
       "      <td>22.953973</td>\n",
       "      <td>1.216065</td>\n",
       "      <td>0.084793</td>\n",
       "      <td>18.706582</td>\n",
       "      <td>24.735779</td>\n",
       "      <td>299.280925</td>\n",
       "    </tr>\n",
       "    <tr>\n",
       "      <th>2</th>\n",
       "      <td>SVR(C=1.7429383440550505, degree=4, epsilon=0....</td>\n",
       "      <td>19.555793</td>\n",
       "      <td>24.660098</td>\n",
       "      <td>1.361314</td>\n",
       "      <td>0.104074</td>\n",
       "      <td>23.280500</td>\n",
       "      <td>27.716683</td>\n",
       "      <td>192.863178</td>\n",
       "    </tr>\n",
       "    <tr>\n",
       "      <th>3</th>\n",
       "      <td>NuSVR(C=2.4196539131928545, degree=2, nu=0.776...</td>\n",
       "      <td>16.678870</td>\n",
       "      <td>22.865564</td>\n",
       "      <td>1.343026</td>\n",
       "      <td>0.106029</td>\n",
       "      <td>22.471016</td>\n",
       "      <td>27.309376</td>\n",
       "      <td>620.843489</td>\n",
       "    </tr>\n",
       "  </tbody>\n",
       "</table>\n",
       "</div>"
      ],
      "text/plain": [
       "                                               Model  Train MAPE  Train RMSE  \\\n",
       "0  (DecisionTreeRegressor(max_features='auto', mi...    9.327739   13.686296   \n",
       "1  ([DecisionTreeRegressor(criterion='friedman_ms...   16.465519   22.953973   \n",
       "2  SVR(C=1.7429383440550505, degree=4, epsilon=0....   19.555793   24.660098   \n",
       "3  NuSVR(C=2.4196539131928545, degree=2, nu=0.776...   16.678870   22.865564   \n",
       "\n",
       "   Train CV Mean  Train CV STD  Test MAPE  Test RMSE   Time Taken  \n",
       "0       1.230752      0.108687  19.068479  25.296075  1021.853305  \n",
       "1       1.216065      0.084793  18.706582  24.735779   299.280925  \n",
       "2       1.361314      0.104074  23.280500  27.716683   192.863178  \n",
       "3       1.343026      0.106029  22.471016  27.309376   620.843489  "
      ]
     },
     "execution_count": 46,
     "metadata": {},
     "output_type": "execute_result"
    }
   ],
   "source": [
    "df_models"
   ]
  },
  {
   "cell_type": "code",
   "execution_count": 52,
   "metadata": {},
   "outputs": [
    {
     "data": {
      "text/html": [
       "<div>\n",
       "<style scoped>\n",
       "    .dataframe tbody tr th:only-of-type {\n",
       "        vertical-align: middle;\n",
       "    }\n",
       "\n",
       "    .dataframe tbody tr th {\n",
       "        vertical-align: top;\n",
       "    }\n",
       "\n",
       "    .dataframe thead th {\n",
       "        text-align: right;\n",
       "    }\n",
       "</style>\n",
       "<table border=\"1\" class=\"dataframe\">\n",
       "  <thead>\n",
       "    <tr style=\"text-align: right;\">\n",
       "      <th></th>\n",
       "      <th>Model</th>\n",
       "      <th>Train MAPE</th>\n",
       "      <th>Train RMSE</th>\n",
       "      <th>Train CV Mean</th>\n",
       "      <th>Train CV STD</th>\n",
       "      <th>Test MAPE</th>\n",
       "      <th>Test RMSE</th>\n",
       "      <th>Time Taken</th>\n",
       "    </tr>\n",
       "  </thead>\n",
       "  <tbody>\n",
       "    <tr>\n",
       "      <th>1</th>\n",
       "      <td>([DecisionTreeRegressor(criterion='friedman_ms...</td>\n",
       "      <td>16.465519</td>\n",
       "      <td>22.953973</td>\n",
       "      <td>1.216065</td>\n",
       "      <td>0.084793</td>\n",
       "      <td>18.706582</td>\n",
       "      <td>24.735779</td>\n",
       "      <td>299.280925</td>\n",
       "    </tr>\n",
       "    <tr>\n",
       "      <th>0</th>\n",
       "      <td>(DecisionTreeRegressor(max_features='auto', mi...</td>\n",
       "      <td>9.327739</td>\n",
       "      <td>13.686296</td>\n",
       "      <td>1.230752</td>\n",
       "      <td>0.108687</td>\n",
       "      <td>19.068479</td>\n",
       "      <td>25.296075</td>\n",
       "      <td>1021.853305</td>\n",
       "    </tr>\n",
       "    <tr>\n",
       "      <th>3</th>\n",
       "      <td>NuSVR(C=2.4196539131928545, degree=2, nu=0.776...</td>\n",
       "      <td>16.678870</td>\n",
       "      <td>22.865564</td>\n",
       "      <td>1.343026</td>\n",
       "      <td>0.106029</td>\n",
       "      <td>22.471016</td>\n",
       "      <td>27.309376</td>\n",
       "      <td>620.843489</td>\n",
       "    </tr>\n",
       "    <tr>\n",
       "      <th>2</th>\n",
       "      <td>SVR(C=1.7429383440550505, degree=4, epsilon=0....</td>\n",
       "      <td>19.555793</td>\n",
       "      <td>24.660098</td>\n",
       "      <td>1.361314</td>\n",
       "      <td>0.104074</td>\n",
       "      <td>23.280500</td>\n",
       "      <td>27.716683</td>\n",
       "      <td>192.863178</td>\n",
       "    </tr>\n",
       "  </tbody>\n",
       "</table>\n",
       "</div>"
      ],
      "text/plain": [
       "                                               Model  Train MAPE  Train RMSE  \\\n",
       "1  ([DecisionTreeRegressor(criterion='friedman_ms...   16.465519   22.953973   \n",
       "0  (DecisionTreeRegressor(max_features='auto', mi...    9.327739   13.686296   \n",
       "3  NuSVR(C=2.4196539131928545, degree=2, nu=0.776...   16.678870   22.865564   \n",
       "2  SVR(C=1.7429383440550505, degree=4, epsilon=0....   19.555793   24.660098   \n",
       "\n",
       "   Train CV Mean  Train CV STD  Test MAPE  Test RMSE   Time Taken  \n",
       "1       1.216065      0.084793  18.706582  24.735779   299.280925  \n",
       "0       1.230752      0.108687  19.068479  25.296075  1021.853305  \n",
       "3       1.343026      0.106029  22.471016  27.309376   620.843489  \n",
       "2       1.361314      0.104074  23.280500  27.716683   192.863178  "
      ]
     },
     "execution_count": 52,
     "metadata": {},
     "output_type": "execute_result"
    }
   ],
   "source": [
    "df_models.sort_values(by='Test RMSE')"
   ]
  },
  {
   "cell_type": "code",
   "execution_count": 47,
   "metadata": {},
   "outputs": [],
   "source": [
    "from sklearn.ensemble import VotingRegressor"
   ]
  },
  {
   "cell_type": "code",
   "execution_count": 48,
   "metadata": {},
   "outputs": [],
   "source": [
    "rfg = RandomForestRegressor(**best_forest_params)\n",
    "gbr = GradientBoostingRegressor(**best_gbr_params)\n",
    "Voting_model_2 = VotingRegressor([('RFR',rfg),('GBR',gbr)])\n",
    "model2_fit = Voting_model_2.fit(X_train,y_train)"
   ]
  },
  {
   "cell_type": "code",
   "execution_count": 49,
   "metadata": {},
   "outputs": [],
   "source": [
    "predictions = model2_fit.predict(X_test)\n",
    "predictions_squared = np.square(predictions)\n",
    "y_test_squared = np.square(y_test)"
   ]
  },
  {
   "cell_type": "code",
   "execution_count": 50,
   "metadata": {},
   "outputs": [
    {
     "data": {
      "text/plain": [
       "24.380719686374213"
      ]
     },
     "execution_count": 50,
     "metadata": {},
     "output_type": "execute_result"
    }
   ],
   "source": [
    "np.sqrt(mean_squared_error(y_test_squared,predictions_squared))"
   ]
  },
  {
   "cell_type": "code",
   "execution_count": 51,
   "metadata": {},
   "outputs": [
    {
     "data": {
      "text/plain": [
       "18.35047126747842"
      ]
     },
     "execution_count": 51,
     "metadata": {},
     "output_type": "execute_result"
    }
   ],
   "source": [
    "mean_absolute_percentage_error(y_test_squared,predictions_squared)"
   ]
  },
  {
   "cell_type": "code",
   "execution_count": null,
   "metadata": {},
   "outputs": [],
   "source": []
  }
 ],
 "metadata": {
  "kernelspec": {
   "display_name": "Python 3.7 (tensorflow)",
   "language": "python",
   "name": "tensorflow"
  },
  "language_info": {
   "codemirror_mode": {
    "name": "ipython",
    "version": 3
   },
   "file_extension": ".py",
   "mimetype": "text/x-python",
   "name": "python",
   "nbconvert_exporter": "python",
   "pygments_lexer": "ipython3",
   "version": "3.7.6"
  }
 },
 "nbformat": 4,
 "nbformat_minor": 2
}
