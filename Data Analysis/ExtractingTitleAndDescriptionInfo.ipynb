{
 "cells": [
  {
   "cell_type": "code",
   "execution_count": 1,
   "metadata": {},
   "outputs": [],
   "source": [
    "##Going to do a quick EDA of the auction data + bit of data manipulation to get it ready for regression."
   ]
  },
  {
   "cell_type": "code",
   "execution_count": null,
   "metadata": {},
   "outputs": [],
   "source": [
    "##Look at old kaggle notebooks to look at distrubtion"
   ]
  },
  {
   "cell_type": "code",
   "execution_count": 1,
   "metadata": {},
   "outputs": [],
   "source": [
    "import numpy as np\n",
    "import pandas as pd\n",
    "import matplotlib.pyplot as plt\n",
    "import seaborn as sns\n",
    "import pickle\n",
    "import re\n",
    "import os\n",
    "from sklearn.feature_extraction.text import TfidfVectorizer,CountVectorizer"
   ]
  },
  {
   "cell_type": "code",
   "execution_count": 2,
   "metadata": {},
   "outputs": [],
   "source": [
    "df = pd.read_pickle(\"auctiondata.pkl\")"
   ]
  },
  {
   "cell_type": "code",
   "execution_count": 3,
   "metadata": {},
   "outputs": [
    {
     "data": {
      "text/html": [
       "<div>\n",
       "<style scoped>\n",
       "    .dataframe tbody tr th:only-of-type {\n",
       "        vertical-align: middle;\n",
       "    }\n",
       "\n",
       "    .dataframe tbody tr th {\n",
       "        vertical-align: top;\n",
       "    }\n",
       "\n",
       "    .dataframe thead th {\n",
       "        text-align: right;\n",
       "    }\n",
       "</style>\n",
       "<table border=\"1\" class=\"dataframe\">\n",
       "  <thead>\n",
       "    <tr style=\"text-align: right;\">\n",
       "      <th></th>\n",
       "      <th>itemId</th>\n",
       "      <th>title</th>\n",
       "      <th>globalId</th>\n",
       "      <th>primaryCategory.categoryId</th>\n",
       "      <th>primaryCategory.categoryName</th>\n",
       "      <th>viewItemURL</th>\n",
       "      <th>paymentMethod</th>\n",
       "      <th>autoPay</th>\n",
       "      <th>location</th>\n",
       "      <th>country</th>\n",
       "      <th>...</th>\n",
       "      <th>Operating System</th>\n",
       "      <th>Style</th>\n",
       "      <th>Connectivity</th>\n",
       "      <th>Features</th>\n",
       "      <th>Processor</th>\n",
       "      <th>Screen Size</th>\n",
       "      <th>Storage Capacity</th>\n",
       "      <th>Network</th>\n",
       "      <th>Colour</th>\n",
       "      <th>Model Number</th>\n",
       "    </tr>\n",
       "  </thead>\n",
       "  <tbody>\n",
       "    <tr>\n",
       "      <th>0</th>\n",
       "      <td>274325644985</td>\n",
       "      <td>Apple iPhone 7 Plus - 128GB - Jet Black (Unloc...</td>\n",
       "      <td>EBAY-GB</td>\n",
       "      <td>9355</td>\n",
       "      <td>Mobile &amp; Smart Phones</td>\n",
       "      <td>https://www.ebay.co.uk/itm/Apple-iPhone-7-Plus...</td>\n",
       "      <td>PayPal</td>\n",
       "      <td>False</td>\n",
       "      <td>Corby,United Kingdom</td>\n",
       "      <td>GB</td>\n",
       "      <td>...</td>\n",
       "      <td>iOS</td>\n",
       "      <td>None</td>\n",
       "      <td>{Lightning,Bluetooth,4G,NFC,Wi-Fi}</td>\n",
       "      <td>28</td>\n",
       "      <td>Quad Core</td>\n",
       "      <td>5.5 in</td>\n",
       "      <td>128 GB</td>\n",
       "      <td>Unlocked</td>\n",
       "      <td>Black</td>\n",
       "      <td>A1784 (GSM)</td>\n",
       "    </tr>\n",
       "    <tr>\n",
       "      <th>1</th>\n",
       "      <td>193490354217</td>\n",
       "      <td>Apple iPhone 7 Black 32GB (Unlocked) Please Re...</td>\n",
       "      <td>EBAY-GB</td>\n",
       "      <td>9355</td>\n",
       "      <td>Mobile &amp; Smart Phones</td>\n",
       "      <td>https://www.ebay.co.uk/itm/Apple-iPhone-7-Blac...</td>\n",
       "      <td>PayPal</td>\n",
       "      <td>False</td>\n",
       "      <td>Cannock,United Kingdom</td>\n",
       "      <td>GB</td>\n",
       "      <td>...</td>\n",
       "      <td>iOS</td>\n",
       "      <td>Bar</td>\n",
       "      <td>{Lightning,Bluetooth,4G,NFC,Wi-Fi}</td>\n",
       "      <td>12</td>\n",
       "      <td>Quad Core</td>\n",
       "      <td>4.7 in</td>\n",
       "      <td>32 GB</td>\n",
       "      <td>Unlocked</td>\n",
       "      <td>Black</td>\n",
       "      <td>A1778 (GSM)</td>\n",
       "    </tr>\n",
       "    <tr>\n",
       "      <th>2</th>\n",
       "      <td>383676133123</td>\n",
       "      <td>Apple iPhone 7 Plus -128GB - Jet Black</td>\n",
       "      <td>EBAY-GB</td>\n",
       "      <td>9355</td>\n",
       "      <td>Mobile &amp; Smart Phones</td>\n",
       "      <td>https://www.ebay.co.uk/itm/Apple-iPhone-7-Plus...</td>\n",
       "      <td>PayPal</td>\n",
       "      <td>False</td>\n",
       "      <td>Slovenia</td>\n",
       "      <td>SI</td>\n",
       "      <td>...</td>\n",
       "      <td>iOS</td>\n",
       "      <td>Bar</td>\n",
       "      <td>{Lightning,Bluetooth,4G,NFC,Wi-Fi}</td>\n",
       "      <td>27</td>\n",
       "      <td>Quad Core</td>\n",
       "      <td>5.5 in</td>\n",
       "      <td>128 GB</td>\n",
       "      <td>Unlocked</td>\n",
       "      <td>Black</td>\n",
       "      <td>None</td>\n",
       "    </tr>\n",
       "    <tr>\n",
       "      <th>3</th>\n",
       "      <td>193490633324</td>\n",
       "      <td>Apple iPhone 7 - 32GB - Black (Unlocked) A1778...</td>\n",
       "      <td>EBAY-GB</td>\n",
       "      <td>9355</td>\n",
       "      <td>Mobile &amp; Smart Phones</td>\n",
       "      <td>https://www.ebay.co.uk/itm/Apple-iPhone-7-32GB...</td>\n",
       "      <td>PayPal</td>\n",
       "      <td>False</td>\n",
       "      <td>Burnley,United Kingdom</td>\n",
       "      <td>GB</td>\n",
       "      <td>...</td>\n",
       "      <td>iOS</td>\n",
       "      <td>Bar</td>\n",
       "      <td>{Lightning,Bluetooth,NFC,Wi-Fi}</td>\n",
       "      <td>18</td>\n",
       "      <td>Quad Core</td>\n",
       "      <td>4.7 in</td>\n",
       "      <td>32 GB</td>\n",
       "      <td>Unlocked</td>\n",
       "      <td>Black</td>\n",
       "      <td>A1778 (GSM)</td>\n",
       "    </tr>\n",
       "    <tr>\n",
       "      <th>4</th>\n",
       "      <td>313184327229</td>\n",
       "      <td>Apple iPhone 7 Plus A1784 32GB-Unlocked-Excell...</td>\n",
       "      <td>EBAY-GB</td>\n",
       "      <td>9355</td>\n",
       "      <td>Mobile &amp; Smart Phones</td>\n",
       "      <td>https://www.ebay.co.uk/itm/Apple-iPhone-7-Plus...</td>\n",
       "      <td>PayPal</td>\n",
       "      <td>False</td>\n",
       "      <td>Epping,United Kingdom</td>\n",
       "      <td>GB</td>\n",
       "      <td>...</td>\n",
       "      <td>iOS</td>\n",
       "      <td>Bar</td>\n",
       "      <td>{Lightning,Bluetooth,NFC,Wi-Fi}</td>\n",
       "      <td>19</td>\n",
       "      <td>Quad Core</td>\n",
       "      <td>None</td>\n",
       "      <td>32 GB</td>\n",
       "      <td>Unlocked</td>\n",
       "      <td>Black</td>\n",
       "      <td>None</td>\n",
       "    </tr>\n",
       "  </tbody>\n",
       "</table>\n",
       "<p>5 rows × 62 columns</p>\n",
       "</div>"
      ],
      "text/plain": [
       "         itemId                                              title globalId  \\\n",
       "0  274325644985  Apple iPhone 7 Plus - 128GB - Jet Black (Unloc...  EBAY-GB   \n",
       "1  193490354217  Apple iPhone 7 Black 32GB (Unlocked) Please Re...  EBAY-GB   \n",
       "2  383676133123             Apple iPhone 7 Plus -128GB - Jet Black  EBAY-GB   \n",
       "3  193490633324  Apple iPhone 7 - 32GB - Black (Unlocked) A1778...  EBAY-GB   \n",
       "4  313184327229  Apple iPhone 7 Plus A1784 32GB-Unlocked-Excell...  EBAY-GB   \n",
       "\n",
       "   primaryCategory.categoryId primaryCategory.categoryName  \\\n",
       "0                        9355        Mobile & Smart Phones   \n",
       "1                        9355        Mobile & Smart Phones   \n",
       "2                        9355        Mobile & Smart Phones   \n",
       "3                        9355        Mobile & Smart Phones   \n",
       "4                        9355        Mobile & Smart Phones   \n",
       "\n",
       "                                         viewItemURL paymentMethod  autoPay  \\\n",
       "0  https://www.ebay.co.uk/itm/Apple-iPhone-7-Plus...        PayPal    False   \n",
       "1  https://www.ebay.co.uk/itm/Apple-iPhone-7-Blac...        PayPal    False   \n",
       "2  https://www.ebay.co.uk/itm/Apple-iPhone-7-Plus...        PayPal    False   \n",
       "3  https://www.ebay.co.uk/itm/Apple-iPhone-7-32GB...        PayPal    False   \n",
       "4  https://www.ebay.co.uk/itm/Apple-iPhone-7-Plus...        PayPal    False   \n",
       "\n",
       "                 location country  ...  Operating System  Style  \\\n",
       "0    Corby,United Kingdom      GB  ...               iOS   None   \n",
       "1  Cannock,United Kingdom      GB  ...               iOS    Bar   \n",
       "2                Slovenia      SI  ...               iOS    Bar   \n",
       "3  Burnley,United Kingdom      GB  ...               iOS    Bar   \n",
       "4   Epping,United Kingdom      GB  ...               iOS    Bar   \n",
       "\n",
       "                         Connectivity  Features  Processor Screen Size  \\\n",
       "0  {Lightning,Bluetooth,4G,NFC,Wi-Fi}        28  Quad Core      5.5 in   \n",
       "1  {Lightning,Bluetooth,4G,NFC,Wi-Fi}        12  Quad Core      4.7 in   \n",
       "2  {Lightning,Bluetooth,4G,NFC,Wi-Fi}        27  Quad Core      5.5 in   \n",
       "3     {Lightning,Bluetooth,NFC,Wi-Fi}        18  Quad Core      4.7 in   \n",
       "4     {Lightning,Bluetooth,NFC,Wi-Fi}        19  Quad Core        None   \n",
       "\n",
       "  Storage Capacity   Network  Colour Model Number  \n",
       "0           128 GB  Unlocked   Black  A1784 (GSM)  \n",
       "1            32 GB  Unlocked   Black  A1778 (GSM)  \n",
       "2           128 GB  Unlocked   Black         None  \n",
       "3            32 GB  Unlocked   Black  A1778 (GSM)  \n",
       "4            32 GB  Unlocked   Black         None  \n",
       "\n",
       "[5 rows x 62 columns]"
      ]
     },
     "execution_count": 3,
     "metadata": {},
     "output_type": "execute_result"
    }
   ],
   "source": [
    "df.head()"
   ]
  },
  {
   "cell_type": "code",
   "execution_count": 4,
   "metadata": {},
   "outputs": [],
   "source": [
    "corpus = []\n",
    "for i in range(100):\n",
    "    title = df.iloc[i]['title']\n",
    "    corpus.append(f\"'{title}',\")"
   ]
  },
  {
   "cell_type": "code",
   "execution_count": 5,
   "metadata": {},
   "outputs": [],
   "source": [
    "for title in df['title']:\n",
    "    corpus.append(f\"'{title}',\")"
   ]
  },
  {
   "cell_type": "code",
   "execution_count": 6,
   "metadata": {},
   "outputs": [],
   "source": [
    "vec = CountVectorizer(ngram_range=(1,2)).fit(corpus)\n",
    "bag_of_words = vec.transform(corpus)\n",
    "sum_words = bag_of_words.sum(axis=0) \n",
    "words_freq = [(word, sum_words[0, idx]) for word, idx in     vec.vocabulary_.items()]\n",
    "words_freq_counter =sorted(words_freq, key = lambda x: x[1], reverse=True)"
   ]
  },
  {
   "cell_type": "code",
   "execution_count": 7,
   "metadata": {},
   "outputs": [
    {
     "data": {
      "text/plain": [
       "[('apple', 16819),\n",
       " ('apple iphone', 16525),\n",
       " ('unlocked', 11965),\n",
       " ('32gb', 11551),\n",
       " ('gsm', 9022),\n",
       " ('black', 8950),\n",
       " ('iphone 32gb', 7766),\n",
       " ('a1778', 6832),\n",
       " ('a1778 gsm', 6152)]"
      ]
     },
     "execution_count": 7,
     "metadata": {},
     "output_type": "execute_result"
    }
   ],
   "source": [
    "words_freq_counter[1:10]"
   ]
  },
  {
   "cell_type": "code",
   "execution_count": 8,
   "metadata": {},
   "outputs": [],
   "source": [
    "vec = TfidfVectorizer(ngram_range=(1,2)).fit(corpus)\n",
    "bag_of_words = vec.transform(corpus)\n",
    "sum_words = bag_of_words.sum(axis=0) \n",
    "words_freq = [(word, sum_words[0, idx]) for word, idx in     vec.vocabulary_.items()]\n",
    "words_freq =sorted(words_freq, key = lambda x: x[1], reverse=True)"
   ]
  },
  {
   "cell_type": "code",
   "execution_count": 9,
   "metadata": {},
   "outputs": [
    {
     "data": {
      "text/plain": [
       "[('apple iphone', 1613.6096121630255),\n",
       " ('apple', 1609.8031340479592),\n",
       " ('unlocked', 1544.841805824373),\n",
       " ('32gb', 1538.9428471499652),\n",
       " ('gsm', 1512.8897992243478),\n",
       " ('iphone 32gb', 1416.0368196235856),\n",
       " ('black', 1404.1295354959127),\n",
       " ('a1778', 1359.317821654471),\n",
       " ('a1778 gsm', 1348.5659361784676)]"
      ]
     },
     "execution_count": 9,
     "metadata": {},
     "output_type": "execute_result"
    }
   ],
   "source": [
    "words_freq[1:10]"
   ]
  },
  {
   "cell_type": "code",
   "execution_count": 10,
   "metadata": {},
   "outputs": [],
   "source": [
    "word_counts = [words_freq[0:100],words_freq_counter[0:100]]\n",
    "columns = []\n",
    "\n",
    "for i in range(len(word_counts)):\n",
    "    words_freq = word_counts[i]\n",
    "    for y in range(len(words_freq)):\n",
    "        column = words_freq[y][0]\n",
    "        columns.append(column)\n",
    "        \n",
    "columns_no_duplicates = list(dict.fromkeys(columns))"
   ]
  },
  {
   "cell_type": "code",
   "execution_count": 11,
   "metadata": {},
   "outputs": [
    {
     "name": "stdout",
     "output_type": "stream",
     "text": [
      "Item 0 out of 18194\n"
     ]
    },
    {
     "name": "stderr",
     "output_type": "stream",
     "text": [
      "C:\\Users\\Alex\\Miniconda3\\envs\\tensorflow\\lib\\site-packages\\pandas\\core\\indexing.py:205: SettingWithCopyWarning: \n",
      "A value is trying to be set on a copy of a slice from a DataFrame\n",
      "\n",
      "See the caveats in the documentation: http://pandas.pydata.org/pandas-docs/stable/user_guide/indexing.html#returning-a-view-versus-a-copy\n",
      "  self._setitem_with_indexer(indexer, value)\n"
     ]
    },
    {
     "name": "stdout",
     "output_type": "stream",
     "text": [
      "Item 1000 out of 18194\n",
      "Item 2000 out of 18194\n",
      "Item 3000 out of 18194\n",
      "Item 4000 out of 18194\n",
      "Item 5000 out of 18194\n",
      "Item 6000 out of 18194\n",
      "Item 7000 out of 18194\n",
      "Item 8000 out of 18194\n",
      "Item 9000 out of 18194\n",
      "Item 10000 out of 18194\n",
      "Item 11000 out of 18194\n",
      "Item 12000 out of 18194\n",
      "Item 13000 out of 18194\n",
      "Item 14000 out of 18194\n",
      "Item 15000 out of 18194\n",
      "Item 16000 out of 18194\n",
      "Item 17000 out of 18194\n",
      "Item 18000 out of 18194\n"
     ]
    }
   ],
   "source": [
    "columns = []\n",
    "for column_name in columns_no_duplicates:\n",
    "    column_name = f'{column_name} in title'\n",
    "    columns.append(column_name)\n",
    "\n",
    "words_df = pd.DataFrame(columns=columns)\n",
    "words_df['Price'] = df['sellingStatus.convertedCurrentPrice.value']\n",
    "words_df['Title'] = df['title']\n",
    "\n",
    "for index,title in enumerate(words_df['Title']):\n",
    "    if(index % 1000 == 0):\n",
    "        print(f'Item {index} out of {len(words_df)}')\n",
    "    for word in columns_no_duplicates:\n",
    "        column = f'{word} in title'\n",
    "        if re.search(r'\\b' + word + r'\\b', title.lower()):\n",
    "            words_df[column].iloc[index] = 1 \n",
    "        else:\n",
    "            words_df[column].iloc[index] = 0"
   ]
  },
  {
   "cell_type": "code",
   "execution_count": 12,
   "metadata": {},
   "outputs": [
    {
     "data": {
      "text/plain": [
       "0    13178\n",
       "1     5016\n",
       "Name: plus in title, dtype: int64"
      ]
     },
     "execution_count": 12,
     "metadata": {},
     "output_type": "execute_result"
    }
   ],
   "source": [
    "words_df['plus in title'].value_counts()"
   ]
  },
  {
   "cell_type": "code",
   "execution_count": 13,
   "metadata": {},
   "outputs": [],
   "source": [
    "words_df.drop(columns='Title',inplace=True)"
   ]
  },
  {
   "cell_type": "code",
   "execution_count": 15,
   "metadata": {},
   "outputs": [
    {
     "name": "stdout",
     "output_type": "stream",
     "text": [
      "The correlation is : 0.23 for column unlocked in title\n",
      "The correlation is : -0.17 for column 32gb in title\n",
      "The correlation is : -0.19 for column a1778 in title\n",
      "The correlation is : 0.16 for column 128gb in title\n",
      "The correlation is : 0.32 for column plus in title\n",
      "The correlation is : 0.20 for column a1784 in title\n",
      "The correlation is : 0.16 for column condition in title\n",
      "The correlation is : 0.11 for column plus 128gb in title\n",
      "The correlation is : -0.19 for column faulty in title\n",
      "The correlation is : -0.15 for column read in title\n",
      "The correlation is : 0.14 for column 256gb in title\n",
      "The correlation is : 0.10 for column red in title\n",
      "The correlation is : -0.10 for column screen in title\n",
      "The correlation is : -0.14 for column for in title\n",
      "The correlation is : -0.11 for column faulty apple in title\n",
      "The correlation is : -0.11 for column fault in title\n",
      "The correlation is : -0.10 for column below in title\n",
      "The correlation is : 0.17 for column new in title\n",
      "The correlation is : -0.12 for column spares in title\n",
      "The correlation is : 1.00 for column Price\n"
     ]
    }
   ],
   "source": [
    "dummie = pd.get_dummies(words_df)\n",
    "columns = dummie.columns\n",
    "columns_to_keep = []\n",
    "for column in columns:\n",
    "    corr = dummie['Price'].corr(dummie[column])\n",
    "    if(corr > 0.1 or corr < -0.1):\n",
    "        print(\"The correlation is : {:.2f} for column {}\".format(corr,column))\n",
    "        columns_to_keep.append(column)\n",
    "        \n",
    "columns_to_keep.remove(\"Price\")\n",
    "words_in_title_to_keep = [col.split('in')[0] for col in columns_to_keep]"
   ]
  },
  {
   "cell_type": "code",
   "execution_count": 19,
   "metadata": {},
   "outputs": [
    {
     "name": "stdout",
     "output_type": "stream",
     "text": [
      "Item 0 out of 18194\n",
      "Item 1000 out of 18194\n",
      "Item 2000 out of 18194\n",
      "Item 3000 out of 18194\n",
      "Item 4000 out of 18194\n",
      "Item 5000 out of 18194\n",
      "Item 6000 out of 18194\n",
      "Item 7000 out of 18194\n",
      "Item 8000 out of 18194\n",
      "Item 9000 out of 18194\n",
      "Item 10000 out of 18194\n",
      "Item 11000 out of 18194\n",
      "Item 12000 out of 18194\n",
      "Item 13000 out of 18194\n",
      "Item 14000 out of 18194\n",
      "Item 15000 out of 18194\n",
      "Item 16000 out of 18194\n",
      "Item 17000 out of 18194\n",
      "Item 18000 out of 18194\n"
     ]
    }
   ],
   "source": [
    "for column_name in words_in_title_to_keep:\n",
    "    column_name = f'{column_name} in title'\n",
    "    df[column_name] = df['itemId']\n",
    "    \n",
    "for index,title in enumerate(df['title']):\n",
    "    if(index % 1000 == 0):\n",
    "        print(f'Item {index} out of {len(words_df)}')\n",
    "    for word in words_in_title_to_keep:\n",
    "        if re.search(r'\\b' + word + r'\\b', title.lower()):\n",
    "            column = f'{word} in title'\n",
    "            df[column].iloc[index] = 1 \n",
    "        else:\n",
    "            column = f'{word} in title'\n",
    "            df[column].iloc[index] = 0 \n",
    "            "
   ]
  },
  {
   "cell_type": "code",
   "execution_count": 67,
   "metadata": {},
   "outputs": [
    {
     "data": {
      "text/html": [
       "<div>\n",
       "<style scoped>\n",
       "    .dataframe tbody tr th:only-of-type {\n",
       "        vertical-align: middle;\n",
       "    }\n",
       "\n",
       "    .dataframe tbody tr th {\n",
       "        vertical-align: top;\n",
       "    }\n",
       "\n",
       "    .dataframe thead th {\n",
       "        text-align: right;\n",
       "    }\n",
       "</style>\n",
       "<table border=\"1\" class=\"dataframe\">\n",
       "  <thead>\n",
       "    <tr style=\"text-align: right;\">\n",
       "      <th></th>\n",
       "      <th>itemId</th>\n",
       "      <th>title</th>\n",
       "      <th>globalId</th>\n",
       "      <th>primaryCategory.categoryId</th>\n",
       "      <th>primaryCategory.categoryName</th>\n",
       "      <th>viewItemURL</th>\n",
       "      <th>paymentMethod</th>\n",
       "      <th>autoPay</th>\n",
       "      <th>location</th>\n",
       "      <th>country</th>\n",
       "      <th>...</th>\n",
       "      <th>read  in title</th>\n",
       "      <th>256gb  in title</th>\n",
       "      <th>red  in title</th>\n",
       "      <th>screen  in title</th>\n",
       "      <th>for  in title</th>\n",
       "      <th>faulty apple  in title</th>\n",
       "      <th>fault  in title</th>\n",
       "      <th>below  in title</th>\n",
       "      <th>new  in title</th>\n",
       "      <th>spares  in title</th>\n",
       "    </tr>\n",
       "  </thead>\n",
       "  <tbody>\n",
       "    <tr>\n",
       "      <th>0</th>\n",
       "      <td>274325644985</td>\n",
       "      <td>Apple iPhone 7 Plus - 128GB - Jet Black (Unlocked) A1784 (GSM)</td>\n",
       "      <td>EBAY-GB</td>\n",
       "      <td>9355</td>\n",
       "      <td>Mobile &amp; Smart Phones</td>\n",
       "      <td>https://www.ebay.co.uk/itm/Apple-iPhone-7-Plus-128GB-Jet-Black-Unlocked-A1784-GSM-/274325644985</td>\n",
       "      <td>PayPal</td>\n",
       "      <td>False</td>\n",
       "      <td>Corby,United Kingdom</td>\n",
       "      <td>GB</td>\n",
       "      <td>...</td>\n",
       "      <td>0</td>\n",
       "      <td>0</td>\n",
       "      <td>0</td>\n",
       "      <td>0</td>\n",
       "      <td>0</td>\n",
       "      <td>0</td>\n",
       "      <td>0</td>\n",
       "      <td>0</td>\n",
       "      <td>0</td>\n",
       "      <td>0</td>\n",
       "    </tr>\n",
       "    <tr>\n",
       "      <th>1</th>\n",
       "      <td>193490354217</td>\n",
       "      <td>Apple iPhone 7 Black 32GB (Unlocked) Please Read Description! Slight Fault!</td>\n",
       "      <td>EBAY-GB</td>\n",
       "      <td>9355</td>\n",
       "      <td>Mobile &amp; Smart Phones</td>\n",
       "      <td>https://www.ebay.co.uk/itm/Apple-iPhone-7-Black-32GB-Unlocked-Please-Read-Description-Slight-Fault-/193490354217</td>\n",
       "      <td>PayPal</td>\n",
       "      <td>False</td>\n",
       "      <td>Cannock,United Kingdom</td>\n",
       "      <td>GB</td>\n",
       "      <td>...</td>\n",
       "      <td>1</td>\n",
       "      <td>0</td>\n",
       "      <td>0</td>\n",
       "      <td>0</td>\n",
       "      <td>0</td>\n",
       "      <td>0</td>\n",
       "      <td>0</td>\n",
       "      <td>0</td>\n",
       "      <td>0</td>\n",
       "      <td>0</td>\n",
       "    </tr>\n",
       "    <tr>\n",
       "      <th>2</th>\n",
       "      <td>383676133123</td>\n",
       "      <td>Apple iPhone 7 Plus -128GB - Jet Black</td>\n",
       "      <td>EBAY-GB</td>\n",
       "      <td>9355</td>\n",
       "      <td>Mobile &amp; Smart Phones</td>\n",
       "      <td>https://www.ebay.co.uk/itm/Apple-iPhone-7-Plus-128GB-Jet-Black-/383676133123</td>\n",
       "      <td>PayPal</td>\n",
       "      <td>False</td>\n",
       "      <td>Slovenia</td>\n",
       "      <td>SI</td>\n",
       "      <td>...</td>\n",
       "      <td>0</td>\n",
       "      <td>0</td>\n",
       "      <td>0</td>\n",
       "      <td>0</td>\n",
       "      <td>0</td>\n",
       "      <td>0</td>\n",
       "      <td>0</td>\n",
       "      <td>0</td>\n",
       "      <td>0</td>\n",
       "      <td>0</td>\n",
       "    </tr>\n",
       "    <tr>\n",
       "      <th>3</th>\n",
       "      <td>193490633324</td>\n",
       "      <td>Apple iPhone 7 - 32GB - Black (Unlocked) A1778 (GSM) Apple Warranty</td>\n",
       "      <td>EBAY-GB</td>\n",
       "      <td>9355</td>\n",
       "      <td>Mobile &amp; Smart Phones</td>\n",
       "      <td>https://www.ebay.co.uk/itm/Apple-iPhone-7-32GB-Black-Unlocked-A1778-GSM-Apple-Warranty-/193490633324</td>\n",
       "      <td>PayPal</td>\n",
       "      <td>False</td>\n",
       "      <td>Burnley,United Kingdom</td>\n",
       "      <td>GB</td>\n",
       "      <td>...</td>\n",
       "      <td>0</td>\n",
       "      <td>0</td>\n",
       "      <td>0</td>\n",
       "      <td>0</td>\n",
       "      <td>0</td>\n",
       "      <td>0</td>\n",
       "      <td>0</td>\n",
       "      <td>0</td>\n",
       "      <td>0</td>\n",
       "      <td>0</td>\n",
       "    </tr>\n",
       "    <tr>\n",
       "      <th>4</th>\n",
       "      <td>313184327229</td>\n",
       "      <td>Apple iPhone 7 Plus A1784 32GB-Unlocked-Excellent condition - 97% batt. health</td>\n",
       "      <td>EBAY-GB</td>\n",
       "      <td>9355</td>\n",
       "      <td>Mobile &amp; Smart Phones</td>\n",
       "      <td>https://www.ebay.co.uk/itm/Apple-iPhone-7-Plus-A1784-32GB-Unlocked-Excellent-condition-97-batt-health-/313184327229</td>\n",
       "      <td>PayPal</td>\n",
       "      <td>False</td>\n",
       "      <td>Epping,United Kingdom</td>\n",
       "      <td>GB</td>\n",
       "      <td>...</td>\n",
       "      <td>0</td>\n",
       "      <td>0</td>\n",
       "      <td>0</td>\n",
       "      <td>0</td>\n",
       "      <td>0</td>\n",
       "      <td>0</td>\n",
       "      <td>0</td>\n",
       "      <td>0</td>\n",
       "      <td>0</td>\n",
       "      <td>0</td>\n",
       "    </tr>\n",
       "  </tbody>\n",
       "</table>\n",
       "<p>5 rows × 85 columns</p>\n",
       "</div>"
      ],
      "text/plain": [
       "         itemId  \\\n",
       "0  274325644985   \n",
       "1  193490354217   \n",
       "2  383676133123   \n",
       "3  193490633324   \n",
       "4  313184327229   \n",
       "\n",
       "                                                                            title  \\\n",
       "0  Apple iPhone 7 Plus - 128GB - Jet Black (Unlocked) A1784 (GSM)                   \n",
       "1  Apple iPhone 7 Black 32GB (Unlocked) Please Read Description! Slight Fault!      \n",
       "2  Apple iPhone 7 Plus -128GB - Jet Black                                           \n",
       "3  Apple iPhone 7 - 32GB - Black (Unlocked) A1778 (GSM) Apple Warranty              \n",
       "4  Apple iPhone 7 Plus A1784 32GB-Unlocked-Excellent condition - 97% batt. health   \n",
       "\n",
       "  globalId  primaryCategory.categoryId primaryCategory.categoryName  \\\n",
       "0  EBAY-GB  9355                        Mobile & Smart Phones         \n",
       "1  EBAY-GB  9355                        Mobile & Smart Phones         \n",
       "2  EBAY-GB  9355                        Mobile & Smart Phones         \n",
       "3  EBAY-GB  9355                        Mobile & Smart Phones         \n",
       "4  EBAY-GB  9355                        Mobile & Smart Phones         \n",
       "\n",
       "                                                                                                           viewItemURL  \\\n",
       "0  https://www.ebay.co.uk/itm/Apple-iPhone-7-Plus-128GB-Jet-Black-Unlocked-A1784-GSM-/274325644985                       \n",
       "1  https://www.ebay.co.uk/itm/Apple-iPhone-7-Black-32GB-Unlocked-Please-Read-Description-Slight-Fault-/193490354217      \n",
       "2  https://www.ebay.co.uk/itm/Apple-iPhone-7-Plus-128GB-Jet-Black-/383676133123                                          \n",
       "3  https://www.ebay.co.uk/itm/Apple-iPhone-7-32GB-Black-Unlocked-A1778-GSM-Apple-Warranty-/193490633324                  \n",
       "4  https://www.ebay.co.uk/itm/Apple-iPhone-7-Plus-A1784-32GB-Unlocked-Excellent-condition-97-batt-health-/313184327229   \n",
       "\n",
       "  paymentMethod  autoPay                location country  ...  read  in title  \\\n",
       "0  PayPal        False    Corby,United Kingdom    GB      ...  0                \n",
       "1  PayPal        False    Cannock,United Kingdom  GB      ...  1                \n",
       "2  PayPal        False    Slovenia                SI      ...  0                \n",
       "3  PayPal        False    Burnley,United Kingdom  GB      ...  0                \n",
       "4  PayPal        False    Epping,United Kingdom   GB      ...  0                \n",
       "\n",
       "   256gb  in title red  in title  screen  in title  for  in title  \\\n",
       "0  0                0             0                 0               \n",
       "1  0                0             0                 0               \n",
       "2  0                0             0                 0               \n",
       "3  0                0             0                 0               \n",
       "4  0                0             0                 0               \n",
       "\n",
       "  faulty apple  in title fault  in title below  in title  new  in title  \\\n",
       "0  0                      0               0               0               \n",
       "1  0                      0               0               0               \n",
       "2  0                      0               0               0               \n",
       "3  0                      0               0               0               \n",
       "4  0                      0               0               0               \n",
       "\n",
       "  spares  in title  \n",
       "0  0                \n",
       "1  0                \n",
       "2  0                \n",
       "3  0                \n",
       "4  0                \n",
       "\n",
       "[5 rows x 85 columns]"
      ]
     },
     "execution_count": 67,
     "metadata": {},
     "output_type": "execute_result"
    }
   ],
   "source": [
    "pd.set_option('display.max_colwidth', -1)\n",
    "df.head()"
   ]
  },
  {
   "cell_type": "code",
   "execution_count": 20,
   "metadata": {},
   "outputs": [],
   "source": [
    "descriptions = df['Description']\n",
    "def cleanhtml(raw_html):\n",
    "    cleanr = re.compile('<.*?>')\n",
    "    cleantext = re.sub(cleanr,'',raw_html)\n",
    "    return cleantext\n",
    "cleaned_descriptions = list(map(cleanhtml,descriptions))"
   ]
  },
  {
   "cell_type": "code",
   "execution_count": 21,
   "metadata": {},
   "outputs": [],
   "source": [
    "vec = CountVectorizer(ngram_range=(1,5),max_features=10000).fit(cleaned_descriptions)\n",
    "bag_of_words = vec.transform(cleaned_descriptions)\n",
    "sum_words = bag_of_words.sum(axis=0) \n",
    "words_freq = [(word, sum_words[0, idx]) for word, idx in     vec.vocabulary_.items()]\n",
    "words_freq_counter =sorted(words_freq, key = lambda x: x[1], reverse=True)\n",
    "\n",
    "vec = TfidfVectorizer(ngram_range=(1,5),max_features=10000).fit(cleaned_descriptions)\n",
    "bag_of_words = vec.transform(cleaned_descriptions)\n",
    "sum_words = bag_of_words.sum(axis=0) \n",
    "words_freq = [(word, sum_words[0, idx]) for word, idx in     vec.vocabulary_.items()]\n",
    "words_freq =sorted(words_freq, key = lambda x: x[1], reverse=True)"
   ]
  },
  {
   "cell_type": "code",
   "execution_count": 22,
   "metadata": {},
   "outputs": [
    {
     "data": {
      "text/plain": [
       "[('false', 192563),\n",
       " ('locked', 66668),\n",
       " ('name', 66015),\n",
       " ('lsdexception', 65199),\n",
       " ('lsdexception locked', 65199),\n",
       " ('locked false', 65199),\n",
       " ('lsdexception locked false', 65199),\n",
       " ('semihidden', 64569),\n",
       " ('unhidewhenused', 64569),\n",
       " ('priority', 63786)]"
      ]
     },
     "execution_count": 22,
     "metadata": {},
     "output_type": "execute_result"
    }
   ],
   "source": [
    "words_freq_counter[0:10]"
   ]
  },
  {
   "cell_type": "code",
   "execution_count": 23,
   "metadata": {},
   "outputs": [
    {
     "data": {
      "text/plain": [
       "[('the', 999.6134660072645),\n",
       " ('is', 762.924405112134),\n",
       " ('and', 756.6880473217053),\n",
       " ('with', 689.4372543826692),\n",
       " ('nbsp', 665.9840847364544),\n",
       " ('condition', 631.3295932498318),\n",
       " ('to', 593.7997193771481),\n",
       " ('in', 575.306335770244),\n",
       " ('phone', 561.0228380952142),\n",
       " ('iphone', 557.704733173033)]"
      ]
     },
     "execution_count": 23,
     "metadata": {},
     "output_type": "execute_result"
    }
   ],
   "source": [
    "words_freq[0:10]"
   ]
  },
  {
   "cell_type": "code",
   "execution_count": 24,
   "metadata": {},
   "outputs": [],
   "source": [
    "word_counts = [words_freq[0:100],words_freq_counter[0:100]]\n",
    "columns = []\n",
    "\n",
    "for i in range(len(word_counts)):\n",
    "    words_freq = word_counts[i]\n",
    "    for y in range(len(words_freq)):\n",
    "        column = words_freq[y][0]\n",
    "        columns.append(column)\n",
    "        \n",
    "columns_no_duplicates = list(dict.fromkeys(columns))"
   ]
  },
  {
   "cell_type": "code",
   "execution_count": 25,
   "metadata": {},
   "outputs": [
    {
     "name": "stdout",
     "output_type": "stream",
     "text": [
      "Item 0 out of 18194\n"
     ]
    },
    {
     "name": "stderr",
     "output_type": "stream",
     "text": [
      "C:\\Users\\Alex\\Miniconda3\\envs\\tensorflow\\lib\\site-packages\\pandas\\core\\indexing.py:205: SettingWithCopyWarning: \n",
      "A value is trying to be set on a copy of a slice from a DataFrame\n",
      "\n",
      "See the caveats in the documentation: http://pandas.pydata.org/pandas-docs/stable/user_guide/indexing.html#returning-a-view-versus-a-copy\n",
      "  self._setitem_with_indexer(indexer, value)\n"
     ]
    },
    {
     "name": "stdout",
     "output_type": "stream",
     "text": [
      "Item 1000 out of 18194\n",
      "Item 2000 out of 18194\n",
      "Item 3000 out of 18194\n",
      "Item 4000 out of 18194\n",
      "Item 5000 out of 18194\n",
      "Item 6000 out of 18194\n",
      "Item 7000 out of 18194\n",
      "Item 8000 out of 18194\n",
      "Item 9000 out of 18194\n",
      "Item 10000 out of 18194\n",
      "Item 11000 out of 18194\n",
      "Item 12000 out of 18194\n",
      "Item 13000 out of 18194\n",
      "Item 14000 out of 18194\n",
      "Item 15000 out of 18194\n",
      "Item 16000 out of 18194\n",
      "Item 17000 out of 18194\n",
      "Item 18000 out of 18194\n"
     ]
    }
   ],
   "source": [
    "columns = []\n",
    "for column_name in columns_no_duplicates:\n",
    "    column_name = f'{column_name} in desc'\n",
    "    columns.append(column_name)\n",
    "\n",
    "desc_df = pd.DataFrame(columns=columns)\n",
    "desc_df['Price'] = df['sellingStatus.convertedCurrentPrice.value']\n",
    "desc_df['Desc'] = df['Description']\n",
    "\n",
    "for index,desc in enumerate(desc_df['Desc']):\n",
    "    if(index % 1000 == 0):\n",
    "        print(f'Item {index} out of {len(desc_df)}')\n",
    "    for word in columns_no_duplicates:\n",
    "        column = f'{word} in desc'\n",
    "        if re.search(r'\\b' + word + r'\\b', desc.lower()):\n",
    "            desc_df[column].iloc[index] = 1 \n",
    "        else:\n",
    "            desc_df[column].iloc[index] = 0"
   ]
  },
  {
   "cell_type": "code",
   "execution_count": 26,
   "metadata": {},
   "outputs": [
    {
     "data": {
      "text/plain": [
       "1    11763\n",
       "0     6431\n",
       "Name: unlocked in desc, dtype: int64"
      ]
     },
     "execution_count": 26,
     "metadata": {},
     "output_type": "execute_result"
    }
   ],
   "source": [
    "desc_df['unlocked in desc'].value_counts()"
   ]
  },
  {
   "cell_type": "code",
   "execution_count": 31,
   "metadata": {},
   "outputs": [
    {
     "name": "stdout",
     "output_type": "stream",
     "text": [
      "The corr : 0.22819164266961542 for column unlocked in title\n",
      "The corr : -0.17184855615003242 for column 32gb in title\n",
      "The corr : -0.1919572007192086 for column a1778 in title\n",
      "The corr : 0.16159348158292355 for column 128gb in title\n",
      "The corr : 0.31605893202451274 for column plus in title\n",
      "The corr : 0.19664587446287005 for column a1784 in title\n",
      "The corr : 0.15692574630105083 for column condition in title\n",
      "The corr : 0.11467112506428889 for column plus 128gb in title\n",
      "The corr : -0.18643961382740512 for column faulty in title\n",
      "The corr : -0.14543939106276144 for column read in title\n",
      "The corr : 0.13705569161959133 for column 256gb in title\n",
      "The corr : 0.1031727652739837 for column red in title\n",
      "The corr : -0.10191166111183086 for column screen in title\n",
      "The corr : -0.14426785667817554 for column for in title\n",
      "The corr : -0.11434405092405431 for column faulty apple in title\n",
      "The corr : -0.10564652848488985 for column fault in title\n",
      "The corr : -0.10213101991657787 for column below in title\n",
      "The corr : 0.17031637857311704 for column new in title\n",
      "The corr : -0.12168811031748548 for column spares in title\n",
      "The corr : 1.0 for column Price\n"
     ]
    }
   ],
   "source": [
    "desc_df.drop(columns='Desc',inplace=True)\n",
    "dummie = pd.get_dummies(words_df)\n",
    "columns = dummie.columns\n",
    "columns_to_keep = []\n",
    "for column in columns:\n",
    "    corr = dummie['Price'].corr(dummie[column])\n",
    "    if(corr > 0.1 or corr < -0.1):\n",
    "        print(f\"The corr : {corr} for column {column}\")\n",
    "        columns_to_keep.append(column)\n",
    "        \n",
    "columns_to_keep.remove(\"Price\")\n",
    "words_in_title_to_keep = [col.split('in')[0] for col in columns_to_keep]\n",
    "words_in_title_to_keep = [x.strip() for x in words_in_title_to_keep]"
   ]
  },
  {
   "cell_type": "code",
   "execution_count": 33,
   "metadata": {},
   "outputs": [
    {
     "data": {
      "text/plain": [
       "['unlocked',\n",
       " '32gb',\n",
       " 'a1778',\n",
       " '128gb',\n",
       " 'plus',\n",
       " 'a1784',\n",
       " 'condition',\n",
       " 'plus 128gb',\n",
       " 'faulty',\n",
       " 'read',\n",
       " '256gb',\n",
       " 'red',\n",
       " 'screen',\n",
       " 'for',\n",
       " 'faulty apple',\n",
       " 'fault',\n",
       " 'below',\n",
       " 'new',\n",
       " 'spares']"
      ]
     },
     "execution_count": 33,
     "metadata": {},
     "output_type": "execute_result"
    }
   ],
   "source": [
    "words_in_title_to_keep"
   ]
  },
  {
   "cell_type": "code",
   "execution_count": 34,
   "metadata": {},
   "outputs": [
    {
     "name": "stdout",
     "output_type": "stream",
     "text": [
      "Item 0 out of 18194\n",
      "Item 1000 out of 18194\n",
      "Item 2000 out of 18194\n",
      "Item 3000 out of 18194\n",
      "Item 4000 out of 18194\n",
      "Item 5000 out of 18194\n",
      "Item 6000 out of 18194\n",
      "Item 7000 out of 18194\n",
      "Item 8000 out of 18194\n",
      "Item 9000 out of 18194\n",
      "Item 10000 out of 18194\n",
      "Item 11000 out of 18194\n",
      "Item 12000 out of 18194\n",
      "Item 13000 out of 18194\n",
      "Item 14000 out of 18194\n",
      "Item 15000 out of 18194\n",
      "Item 16000 out of 18194\n",
      "Item 17000 out of 18194\n",
      "Item 18000 out of 18194\n"
     ]
    }
   ],
   "source": [
    "for column_name in words_in_title_to_keep:\n",
    "    column_name = f'{column_name} in desc'\n",
    "    df[column_name] = df['itemId']\n",
    "    \n",
    "for index,desc in enumerate(df['Description']):\n",
    "    if(index % 1000 == 0):\n",
    "        print(f'Item {index} out of {len(words_df)}')\n",
    "    for word in words_in_title_to_keep:\n",
    "        if re.search(r'\\b' + word + r'\\b', desc.lower()):\n",
    "            column = f'{word} in desc'\n",
    "            df[column].iloc[index] = 1 \n",
    "        else:\n",
    "            column = f'{word} in desc'\n",
    "            df[column].iloc[index] = 0 "
   ]
  },
  {
   "cell_type": "code",
   "execution_count": 36,
   "metadata": {},
   "outputs": [
    {
     "data": {
      "text/plain": [
       "1    11763\n",
       "0     6431\n",
       "Name: unlocked in desc, dtype: int64"
      ]
     },
     "execution_count": 36,
     "metadata": {},
     "output_type": "execute_result"
    }
   ],
   "source": [
    "df['unlocked in desc'].value_counts()"
   ]
  },
  {
   "cell_type": "code",
   "execution_count": 39,
   "metadata": {},
   "outputs": [],
   "source": [
    "path = os.getcwd() + \"\\\\auctiondatacleanedtitle.pkl\"\n",
    "df.to_pickle(path)"
   ]
  },
  {
   "cell_type": "code",
   "execution_count": null,
   "metadata": {},
   "outputs": [],
   "source": []
  }
 ],
 "metadata": {
  "kernelspec": {
   "display_name": "Python 3.7 (tensorflow)",
   "language": "python",
   "name": "tensorflow"
  },
  "language_info": {
   "codemirror_mode": {
    "name": "ipython",
    "version": 3
   },
   "file_extension": ".py",
   "mimetype": "text/x-python",
   "name": "python",
   "nbconvert_exporter": "python",
   "pygments_lexer": "ipython3",
   "version": "3.7.6"
  }
 },
 "nbformat": 4,
 "nbformat_minor": 2
}
